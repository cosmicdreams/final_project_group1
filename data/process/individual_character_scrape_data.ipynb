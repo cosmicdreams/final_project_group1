{
 "cells": [
  {
   "cell_type": "code",
   "execution_count": 200,
   "metadata": {},
   "outputs": [],
   "source": [
    "# Import Splinter, BeautifulSoup, and Pandas\n",
    "from splinter import Browser\n",
    "from bs4 import BeautifulSoup as soup\n",
    "import pandas as pd\n",
    "import datetime as dt\n",
    "from webdriver_manager.chrome import ChromeDriverManager"
   ]
  },
  {
   "cell_type": "code",
   "execution_count": 201,
   "metadata": {},
   "outputs": [
    {
     "name": "stderr",
     "output_type": "stream",
     "text": [
      "\n",
      "\n",
      "====== WebDriver manager ======\n",
      "Could not get version for google-chrome with the command:  powershell \"$ErrorActionPreference='silentlycontinue' ; (Get-Item -Path \"$env:PROGRAMFILES\\Google\\Chrome\\Application\\chrome.exe\").VersionInfo.FileVersion ; if (-not $? -or $? -match $error) { (Get-Item -Path \"$env:PROGRAMFILES(x86)\\Google\\Chrome\\Application\\chrome.exe\").VersionInfo.FileVersion } if (-not $? -or $? -match $error) { (Get-Item -Path \"$env:LOCALAPPDATA\\Google\\Chrome\\Application\\chrome.exe\").VersionInfo.FileVersion } if (-not $? -or $? -match $error) { reg query \"HKCU\\SOFTWARE\\Google\\Chrome\\BLBeacon\" /v version } if (-not $? -or $? -match $error) { reg query \"HKLM\\SOFTWARE\\Wow6432Node\\Microsoft\\Windows\\CurrentVersion\\Uninstall\\Google Chrome\" /v version }\"\n",
      "Current google-chrome version is UNKNOWN\n",
      "Get LATEST chromedriver version for UNKNOWN google-chrome\n",
      "Trying to download new driver from https://chromedriver.storage.googleapis.com/102.0.5005.61/chromedriver_win32.zip\n",
      "Driver has been saved in cache [C:\\Users\\eldarias\\.wdm\\drivers\\chromedriver\\win32\\102.0.5005.61]\n"
     ]
    }
   ],
   "source": [
    "# Set up Splinter - set the executable path and initialize a browser:\n",
    "executable_path = {'executable_path': ChromeDriverManager().install()}\n",
    "browser = Browser('chrome', **executable_path, headless=False)"
   ]
  },
  {
   "cell_type": "code",
   "execution_count": 202,
   "metadata": {},
   "outputs": [],
   "source": [
    "# This code tells Splinter which site we want to visit by assigning the link to a URL\n",
    "character_name = 'zarude'\n",
    "url = f'https://pokemondb.net/pokedex/{character_name}'\n",
    "browser.visit(url)"
   ]
  },
  {
   "cell_type": "code",
   "execution_count": 203,
   "metadata": {},
   "outputs": [],
   "source": [
    "# Parse the HTML: use BeautifulSoup to parse the HTML\n",
    "html = browser.html\n",
    "html_soup = soup(html, 'html.parser')"
   ]
  },
  {
   "cell_type": "code",
   "execution_count": 204,
   "metadata": {},
   "outputs": [],
   "source": [
    "get_table_data = html_soup.find('div', class_='sv-tabs-panel-list')"
   ]
  },
  {
   "cell_type": "markdown",
   "metadata": {},
   "source": [
    "## Getting Pokedex Data"
   ]
  },
  {
   "cell_type": "code",
   "execution_count": 205,
   "metadata": {},
   "outputs": [],
   "source": [
    "# GET Pokédex data / Vitals:\n",
    "pokedex_data_table = get_table_data.find(class_='vitals-table')"
   ]
  },
  {
   "cell_type": "code",
   "execution_count": 206,
   "metadata": {},
   "outputs": [],
   "source": [
    "# Get Table Data\n",
    "table_body = pokedex_data_table.find('tbody')\n",
    "rows = table_body.find_all('tr')\n",
    "\n",
    "table_head = []\n",
    "table_data = []\n",
    "\n",
    "for row in rows:\n",
    "    th = row.find_all('th')\n",
    "    td = row.find_all('td')\n",
    "    th = [x.text.strip() for x in th]\n",
    "    td = [x.text.strip() for x in td]  \n",
    "    table_head.append(th)\n",
    "    table_data.append(td)\n",
    "\n",
    "# Create Pokédex data / Vitals dataframe::\n",
    "pokedex_head_df = pd.DataFrame(table_head)\n",
    "pokedex_data_df = pd.DataFrame(table_data)\n",
    "pokedex_table_df = pd.concat([pokedex_head_df, pokedex_data_df], axis=1)\n"
   ]
  },
  {
   "cell_type": "markdown",
   "metadata": {},
   "source": [
    "## Getting Training Data:"
   ]
  },
  {
   "cell_type": "code",
   "execution_count": 207,
   "metadata": {},
   "outputs": [],
   "source": [
    "training = get_table_data.find(class_='grid-col span-md-12 span-lg-4')\n",
    "training_data = training.find_all(class_='vitals-table')[0]\n",
    "\n",
    "# GET Training Data:\n",
    "table_body = training_data.find('tbody')\n",
    "rows = table_body.find_all('tr')\n",
    "\n",
    "table_head = []\n",
    "table_data = []\n",
    "\n",
    "for row in rows:\n",
    "    th=row.find_all('th')\n",
    "    td=row.find_all('td')\n",
    "    th=[x.text.strip() for x in th]\n",
    "    td=[x.text.strip() for x in td]  \n",
    "    table_head.append(th)\n",
    "    table_data.append(td)\n",
    "\n",
    "# Create Pokédex data / Vitals dataframe::\n",
    "training_head = pd.DataFrame(table_head)\n",
    "training_data = pd.DataFrame(table_data)\n",
    "training_df = pd.concat([training_head, training_data], axis=1)\n",
    "#training_df.head(10)"
   ]
  },
  {
   "cell_type": "markdown",
   "metadata": {},
   "source": [
    "## Getting Breeding Data:"
   ]
  },
  {
   "cell_type": "code",
   "execution_count": 208,
   "metadata": {},
   "outputs": [],
   "source": [
    "breeding = training.find_all(class_='vitals-table')[1]\n",
    "\n",
    "# GET Training Data:\n",
    "table_body = breeding.find('tbody')\n",
    "rows = table_body.find_all('tr')\n",
    "\n",
    "table_head = []\n",
    "table_data = []\n",
    "\n",
    "for row in rows:\n",
    "    th=row.find_all('th')\n",
    "    td=row.find_all('td')\n",
    "    th=[x.text.strip() for x in th]\n",
    "    td=[x.text.strip() for x in td]  \n",
    "    table_head.append(th)\n",
    "    table_data.append(td)\n",
    "\n",
    "# Create Pokédex data / Vitals dataframe::\n",
    "breeding_head = pd.DataFrame(table_head)\n",
    "breeding_data = pd.DataFrame(table_data)\n",
    "breeding_df = pd.concat([breeding_head, breeding_data], axis=1)\n",
    "#breeding_df.head(10)\n",
    "\n"
   ]
  },
  {
   "cell_type": "markdown",
   "metadata": {},
   "source": [
    "## Getting Base Stats Data"
   ]
  },
  {
   "cell_type": "code",
   "execution_count": 209,
   "metadata": {},
   "outputs": [],
   "source": [
    "# GET Base Stats\n",
    "base_stats = get_table_data.find(class_='grid-col span-md-12 span-lg-8')\n",
    "\n",
    "# GET Base Stats Data:\n",
    "table_body = base_stats.find('tbody')\n",
    "rows = table_body.find_all('tr')\n",
    "\n",
    "table_head = []\n",
    "table_data = []\n",
    "\n",
    "for row in rows:\n",
    "    th=row.find_all('th')\n",
    "    td=row.find_all('td')\n",
    "    th=[x.text.strip() for x in th]\n",
    "    td=[x.text.strip() for x in td]  \n",
    "    table_head.append(th)\n",
    "    table_data.append(td)\n",
    "\n",
    "# Create Pokédex data / Vitals dataframe::\n",
    "stats_head = pd.DataFrame(table_head)\n",
    "stats_data = pd.DataFrame(table_data)\n",
    "stats_df = pd.concat([stats_head, stats_data], axis=1)\n",
    "#stats_df.head(10)"
   ]
  },
  {
   "cell_type": "markdown",
   "metadata": {},
   "source": [
    "## Displaying Collected Data:"
   ]
  },
  {
   "cell_type": "code",
   "execution_count": 211,
   "metadata": {},
   "outputs": [
    {
     "data": {
      "text/html": [
       "<div>\n",
       "<style scoped>\n",
       "    .dataframe tbody tr th:only-of-type {\n",
       "        vertical-align: middle;\n",
       "    }\n",
       "\n",
       "    .dataframe tbody tr th {\n",
       "        vertical-align: top;\n",
       "    }\n",
       "\n",
       "    .dataframe thead th {\n",
       "        text-align: right;\n",
       "    }\n",
       "</style>\n",
       "<table border=\"1\" class=\"dataframe\">\n",
       "  <thead>\n",
       "    <tr style=\"text-align: right;\">\n",
       "      <th></th>\n",
       "      <th>Type</th>\n",
       "      <th>Value</th>\n",
       "    </tr>\n",
       "  </thead>\n",
       "  <tbody>\n",
       "    <tr>\n",
       "      <th>0</th>\n",
       "      <td>National №</td>\n",
       "      <td>893</td>\n",
       "    </tr>\n",
       "    <tr>\n",
       "      <th>1</th>\n",
       "      <td>Type</td>\n",
       "      <td>Dark Grass</td>\n",
       "    </tr>\n",
       "    <tr>\n",
       "      <th>2</th>\n",
       "      <td>Species</td>\n",
       "      <td>Rogue Monkey Pokémon</td>\n",
       "    </tr>\n",
       "    <tr>\n",
       "      <th>3</th>\n",
       "      <td>Height</td>\n",
       "      <td>1.8 m (5′11″)</td>\n",
       "    </tr>\n",
       "    <tr>\n",
       "      <th>4</th>\n",
       "      <td>Weight</td>\n",
       "      <td>70.0 kg (154.3 lbs)</td>\n",
       "    </tr>\n",
       "    <tr>\n",
       "      <th>5</th>\n",
       "      <td>Abilities</td>\n",
       "      <td>1. Leaf Guard</td>\n",
       "    </tr>\n",
       "    <tr>\n",
       "      <th>6</th>\n",
       "      <td>Local №</td>\n",
       "      <td>211 (The Isle of Armor)</td>\n",
       "    </tr>\n",
       "  </tbody>\n",
       "</table>\n",
       "</div>"
      ],
      "text/plain": [
       "         Type                    Value\n",
       "0  National №                      893\n",
       "1        Type               Dark Grass\n",
       "2     Species     Rogue Monkey Pokémon\n",
       "3      Height            1.8 m (5′11″)\n",
       "4      Weight      70.0 kg (154.3 lbs)\n",
       "5   Abilities            1. Leaf Guard\n",
       "6     Local №  211 (The Isle of Armor)"
      ]
     },
     "execution_count": 211,
     "metadata": {},
     "output_type": "execute_result"
    }
   ],
   "source": [
    "pokedex_table_df"
   ]
  },
  {
   "cell_type": "code",
   "execution_count": 251,
   "metadata": {},
   "outputs": [
    {
     "data": {
      "text/html": [
       "<div>\n",
       "<style scoped>\n",
       "    .dataframe tbody tr th:only-of-type {\n",
       "        vertical-align: middle;\n",
       "    }\n",
       "\n",
       "    .dataframe tbody tr th {\n",
       "        vertical-align: top;\n",
       "    }\n",
       "\n",
       "    .dataframe thead th {\n",
       "        text-align: right;\n",
       "    }\n",
       "</style>\n",
       "<table border=\"1\" class=\"dataframe\">\n",
       "  <thead>\n",
       "    <tr style=\"text-align: right;\">\n",
       "      <th></th>\n",
       "      <th>0</th>\n",
       "      <th>0</th>\n",
       "    </tr>\n",
       "  </thead>\n",
       "  <tbody>\n",
       "    <tr>\n",
       "      <th>0</th>\n",
       "      <td>EV yield</td>\n",
       "      <td>3 Attack</td>\n",
       "    </tr>\n",
       "    <tr>\n",
       "      <th>1</th>\n",
       "      <td>Catch rate</td>\n",
       "      <td>3 (0.4% with PokéBall, full HP)</td>\n",
       "    </tr>\n",
       "    <tr>\n",
       "      <th>2</th>\n",
       "      <td>Base Friendship</td>\n",
       "      <td>0 (lower than normal)</td>\n",
       "    </tr>\n",
       "    <tr>\n",
       "      <th>3</th>\n",
       "      <td>Base Exp.</td>\n",
       "      <td>300</td>\n",
       "    </tr>\n",
       "    <tr>\n",
       "      <th>4</th>\n",
       "      <td>Growth Rate</td>\n",
       "      <td>Slow</td>\n",
       "    </tr>\n",
       "  </tbody>\n",
       "</table>\n",
       "</div>"
      ],
      "text/plain": [
       "                 0                                0\n",
       "0         EV yield                         3 Attack\n",
       "1       Catch rate  3 (0.4% with PokéBall, full HP)\n",
       "2  Base Friendship            0 (lower than normal)\n",
       "3        Base Exp.                              300\n",
       "4      Growth Rate                             Slow"
      ]
     },
     "execution_count": 251,
     "metadata": {},
     "output_type": "execute_result"
    }
   ],
   "source": [
    "training_df.head(10)"
   ]
  },
  {
   "cell_type": "code",
   "execution_count": 213,
   "metadata": {},
   "outputs": [
    {
     "data": {
      "text/html": [
       "<div>\n",
       "<style scoped>\n",
       "    .dataframe tbody tr th:only-of-type {\n",
       "        vertical-align: middle;\n",
       "    }\n",
       "\n",
       "    .dataframe tbody tr th {\n",
       "        vertical-align: top;\n",
       "    }\n",
       "\n",
       "    .dataframe thead th {\n",
       "        text-align: right;\n",
       "    }\n",
       "</style>\n",
       "<table border=\"1\" class=\"dataframe\">\n",
       "  <thead>\n",
       "    <tr style=\"text-align: right;\">\n",
       "      <th></th>\n",
       "      <th>0</th>\n",
       "      <th>0</th>\n",
       "    </tr>\n",
       "  </thead>\n",
       "  <tbody>\n",
       "    <tr>\n",
       "      <th>0</th>\n",
       "      <td>Egg Groups</td>\n",
       "      <td>Undiscovered</td>\n",
       "    </tr>\n",
       "    <tr>\n",
       "      <th>1</th>\n",
       "      <td>Gender</td>\n",
       "      <td>Genderless</td>\n",
       "    </tr>\n",
       "    <tr>\n",
       "      <th>2</th>\n",
       "      <td>Egg cycles</td>\n",
       "      <td>120 (30,584–30,840 steps)</td>\n",
       "    </tr>\n",
       "  </tbody>\n",
       "</table>\n",
       "</div>"
      ],
      "text/plain": [
       "            0                          0\n",
       "0  Egg Groups               Undiscovered\n",
       "1      Gender                 Genderless\n",
       "2  Egg cycles  120 (30,584–30,840 steps)"
      ]
     },
     "execution_count": 213,
     "metadata": {},
     "output_type": "execute_result"
    }
   ],
   "source": [
    "breeding_df.head(10)"
   ]
  },
  {
   "cell_type": "code",
   "execution_count": 214,
   "metadata": {},
   "outputs": [
    {
     "data": {
      "text/html": [
       "<div>\n",
       "<style scoped>\n",
       "    .dataframe tbody tr th:only-of-type {\n",
       "        vertical-align: middle;\n",
       "    }\n",
       "\n",
       "    .dataframe tbody tr th {\n",
       "        vertical-align: top;\n",
       "    }\n",
       "\n",
       "    .dataframe thead th {\n",
       "        text-align: right;\n",
       "    }\n",
       "</style>\n",
       "<table border=\"1\" class=\"dataframe\">\n",
       "  <thead>\n",
       "    <tr style=\"text-align: right;\">\n",
       "      <th></th>\n",
       "      <th>0</th>\n",
       "      <th>0</th>\n",
       "      <th>1</th>\n",
       "      <th>2</th>\n",
       "      <th>3</th>\n",
       "    </tr>\n",
       "  </thead>\n",
       "  <tbody>\n",
       "    <tr>\n",
       "      <th>0</th>\n",
       "      <td>HP</td>\n",
       "      <td>105</td>\n",
       "      <td></td>\n",
       "      <td>320</td>\n",
       "      <td>414</td>\n",
       "    </tr>\n",
       "    <tr>\n",
       "      <th>1</th>\n",
       "      <td>Attack</td>\n",
       "      <td>120</td>\n",
       "      <td></td>\n",
       "      <td>220</td>\n",
       "      <td>372</td>\n",
       "    </tr>\n",
       "    <tr>\n",
       "      <th>2</th>\n",
       "      <td>Defense</td>\n",
       "      <td>105</td>\n",
       "      <td></td>\n",
       "      <td>193</td>\n",
       "      <td>339</td>\n",
       "    </tr>\n",
       "    <tr>\n",
       "      <th>3</th>\n",
       "      <td>Sp. Atk</td>\n",
       "      <td>70</td>\n",
       "      <td></td>\n",
       "      <td>130</td>\n",
       "      <td>262</td>\n",
       "    </tr>\n",
       "    <tr>\n",
       "      <th>4</th>\n",
       "      <td>Sp. Def</td>\n",
       "      <td>95</td>\n",
       "      <td></td>\n",
       "      <td>175</td>\n",
       "      <td>317</td>\n",
       "    </tr>\n",
       "    <tr>\n",
       "      <th>5</th>\n",
       "      <td>Speed</td>\n",
       "      <td>105</td>\n",
       "      <td></td>\n",
       "      <td>193</td>\n",
       "      <td>339</td>\n",
       "    </tr>\n",
       "  </tbody>\n",
       "</table>\n",
       "</div>"
      ],
      "text/plain": [
       "         0    0 1    2    3\n",
       "0       HP  105    320  414\n",
       "1   Attack  120    220  372\n",
       "2  Defense  105    193  339\n",
       "3  Sp. Atk   70    130  262\n",
       "4  Sp. Def   95    175  317\n",
       "5    Speed  105    193  339"
      ]
     },
     "execution_count": 214,
     "metadata": {},
     "output_type": "execute_result"
    }
   ],
   "source": [
    "stats_df.head(10)"
   ]
  },
  {
   "cell_type": "code",
   "execution_count": 239,
   "metadata": {},
   "outputs": [
    {
     "data": {
      "text/html": [
       "<div>\n",
       "<style scoped>\n",
       "    .dataframe tbody tr th:only-of-type {\n",
       "        vertical-align: middle;\n",
       "    }\n",
       "\n",
       "    .dataframe tbody tr th {\n",
       "        vertical-align: top;\n",
       "    }\n",
       "\n",
       "    .dataframe thead th {\n",
       "        text-align: right;\n",
       "    }\n",
       "</style>\n",
       "<table border=\"1\" class=\"dataframe\">\n",
       "  <thead>\n",
       "    <tr style=\"text-align: right;\">\n",
       "      <th></th>\n",
       "      <th>0</th>\n",
       "      <th>1</th>\n",
       "      <th>2</th>\n",
       "      <th>3</th>\n",
       "      <th>4</th>\n",
       "      <th>5</th>\n",
       "    </tr>\n",
       "  </thead>\n",
       "  <tbody>\n",
       "    <tr>\n",
       "      <th>0</th>\n",
       "      <td>HP</td>\n",
       "      <td>Attack</td>\n",
       "      <td>Defense</td>\n",
       "      <td>Sp. Atk</td>\n",
       "      <td>Sp. Def</td>\n",
       "      <td>Speed</td>\n",
       "    </tr>\n",
       "    <tr>\n",
       "      <th>0</th>\n",
       "      <td>105</td>\n",
       "      <td>120</td>\n",
       "      <td>105</td>\n",
       "      <td>70</td>\n",
       "      <td>95</td>\n",
       "      <td>105</td>\n",
       "    </tr>\n",
       "  </tbody>\n",
       "</table>\n",
       "</div>"
      ],
      "text/plain": [
       "     0       1        2        3        4      5\n",
       "0   HP  Attack  Defense  Sp. Atk  Sp. Def  Speed\n",
       "0  105     120      105       70       95    105"
      ]
     },
     "execution_count": 239,
     "metadata": {},
     "output_type": "execute_result"
    }
   ],
   "source": [
    "Status_value = stats_df.iloc[: , [0, 1]].copy().reset_index(drop = True)\n",
    "Status_value = Status_value.transpose()\n",
    "Status_value"
   ]
  },
  {
   "cell_type": "code",
   "execution_count": 240,
   "metadata": {},
   "outputs": [
    {
     "data": {
      "text/html": [
       "<div>\n",
       "<style scoped>\n",
       "    .dataframe tbody tr th:only-of-type {\n",
       "        vertical-align: middle;\n",
       "    }\n",
       "\n",
       "    .dataframe tbody tr th {\n",
       "        vertical-align: top;\n",
       "    }\n",
       "\n",
       "    .dataframe thead th {\n",
       "        text-align: right;\n",
       "    }\n",
       "</style>\n",
       "<table border=\"1\" class=\"dataframe\">\n",
       "  <thead>\n",
       "    <tr style=\"text-align: right;\">\n",
       "      <th></th>\n",
       "      <th>0</th>\n",
       "      <th>1</th>\n",
       "      <th>2</th>\n",
       "      <th>3</th>\n",
       "      <th>4</th>\n",
       "      <th>5</th>\n",
       "    </tr>\n",
       "  </thead>\n",
       "  <tbody>\n",
       "    <tr>\n",
       "      <th>min_0</th>\n",
       "      <td>HP</td>\n",
       "      <td>Attack</td>\n",
       "      <td>Defense</td>\n",
       "      <td>Sp. Atk</td>\n",
       "      <td>Sp. Def</td>\n",
       "      <td>Speed</td>\n",
       "    </tr>\n",
       "    <tr>\n",
       "      <th>min_2</th>\n",
       "      <td>320</td>\n",
       "      <td>220</td>\n",
       "      <td>193</td>\n",
       "      <td>130</td>\n",
       "      <td>175</td>\n",
       "      <td>193</td>\n",
       "    </tr>\n",
       "  </tbody>\n",
       "</table>\n",
       "</div>"
      ],
      "text/plain": [
       "         0       1        2        3        4      5\n",
       "min_0   HP  Attack  Defense  Sp. Atk  Sp. Def  Speed\n",
       "min_2  320     220      193      130      175    193"
      ]
     },
     "execution_count": 240,
     "metadata": {},
     "output_type": "execute_result"
    }
   ],
   "source": [
    "Status_value_min = stats_df.iloc[: , [0, 3]].copy().reset_index(drop = True)\n",
    "Status_value_min = Status_value_min.add_prefix('min_')\n",
    "Status_value_min = Status_value_min.transpose()\n",
    "Status_value_min"
   ]
  },
  {
   "cell_type": "code",
   "execution_count": 234,
   "metadata": {},
   "outputs": [
    {
     "data": {
      "text/html": [
       "<div>\n",
       "<style scoped>\n",
       "    .dataframe tbody tr th:only-of-type {\n",
       "        vertical-align: middle;\n",
       "    }\n",
       "\n",
       "    .dataframe tbody tr th {\n",
       "        vertical-align: top;\n",
       "    }\n",
       "\n",
       "    .dataframe thead th {\n",
       "        text-align: right;\n",
       "    }\n",
       "</style>\n",
       "<table border=\"1\" class=\"dataframe\">\n",
       "  <thead>\n",
       "    <tr style=\"text-align: right;\">\n",
       "      <th></th>\n",
       "      <th>0</th>\n",
       "      <th>1</th>\n",
       "      <th>2</th>\n",
       "      <th>3</th>\n",
       "      <th>4</th>\n",
       "      <th>5</th>\n",
       "    </tr>\n",
       "  </thead>\n",
       "  <tbody>\n",
       "    <tr>\n",
       "      <th>0</th>\n",
       "      <td>HP</td>\n",
       "      <td>Attack</td>\n",
       "      <td>Defense</td>\n",
       "      <td>Sp. Atk</td>\n",
       "      <td>Sp. Def</td>\n",
       "      <td>Speed</td>\n",
       "    </tr>\n",
       "    <tr>\n",
       "      <th>3</th>\n",
       "      <td>414</td>\n",
       "      <td>372</td>\n",
       "      <td>339</td>\n",
       "      <td>262</td>\n",
       "      <td>317</td>\n",
       "      <td>339</td>\n",
       "    </tr>\n",
       "  </tbody>\n",
       "</table>\n",
       "</div>"
      ],
      "text/plain": [
       "     0       1        2        3        4      5\n",
       "0   HP  Attack  Defense  Sp. Atk  Sp. Def  Speed\n",
       "3  414     372      339      262      317    339"
      ]
     },
     "execution_count": 234,
     "metadata": {},
     "output_type": "execute_result"
    }
   ],
   "source": [
    "Status_value_max = stats_df.iloc[: , [0, 4]].copy().reset_index(drop = True)\n",
    "Status_value_max = Status_value_max.transpose()\n",
    "Status_value_max"
   ]
  }
 ],
 "metadata": {
  "interpreter": {
   "hash": "51caf99891394b0e03474437ee42f862b0c4f5794f4bf2bdbe4ba068a06a1fa3"
  },
  "kernelspec": {
   "display_name": "Python 3.7.11 ('PythonData')",
   "language": "python",
   "name": "python3"
  },
  "language_info": {
   "codemirror_mode": {
    "name": "ipython",
    "version": 3
   },
   "file_extension": ".py",
   "mimetype": "text/x-python",
   "name": "python",
   "nbconvert_exporter": "python",
   "pygments_lexer": "ipython3",
   "version": "3.7.11"
  },
  "orig_nbformat": 4
 },
 "nbformat": 4,
 "nbformat_minor": 2
}
