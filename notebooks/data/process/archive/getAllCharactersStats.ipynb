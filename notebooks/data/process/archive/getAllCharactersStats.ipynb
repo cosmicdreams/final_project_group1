{
 "cells": [
  {
   "cell_type": "code",
   "execution_count": 121,
   "metadata": {},
   "outputs": [],
   "source": [
    "# Import Splinter, BeautifulSoup, and Pandas\n",
    "from splinter import Browser\n",
    "from bs4 import BeautifulSoup as soup\n",
    "import pandas as pd\n",
    "import datetime as dt\n",
    "from webdriver_manager.chrome import ChromeDriverManager\n",
    "import csv"
   ]
  },
  {
   "cell_type": "code",
   "execution_count": 122,
   "metadata": {},
   "outputs": [
    {
     "name": "stderr",
     "output_type": "stream",
     "text": [
      "\n",
      "\n",
      "====== WebDriver manager ======\n",
      "Could not get version for google-chrome with the command:  powershell \"$ErrorActionPreference='silentlycontinue' ; (Get-Item -Path \"$env:PROGRAMFILES\\Google\\Chrome\\Application\\chrome.exe\").VersionInfo.FileVersion ; if (-not $? -or $? -match $error) { (Get-Item -Path \"$env:PROGRAMFILES(x86)\\Google\\Chrome\\Application\\chrome.exe\").VersionInfo.FileVersion } if (-not $? -or $? -match $error) { (Get-Item -Path \"$env:LOCALAPPDATA\\Google\\Chrome\\Application\\chrome.exe\").VersionInfo.FileVersion } if (-not $? -or $? -match $error) { reg query \"HKCU\\SOFTWARE\\Google\\Chrome\\BLBeacon\" /v version } if (-not $? -or $? -match $error) { reg query \"HKLM\\SOFTWARE\\Wow6432Node\\Microsoft\\Windows\\CurrentVersion\\Uninstall\\Google Chrome\" /v version }\"\n",
      "Current google-chrome version is UNKNOWN\n",
      "Get LATEST chromedriver version for UNKNOWN google-chrome\n",
      "Trying to download new driver from https://chromedriver.storage.googleapis.com/102.0.5005.61/chromedriver_win32.zip\n",
      "Driver has been saved in cache [C:\\Users\\eldarias\\.wdm\\drivers\\chromedriver\\win32\\102.0.5005.61]\n"
     ]
    }
   ],
   "source": [
    "# Set up Splinter - set the executable path and initialize a browser:\n",
    "executable_path = {'executable_path': ChromeDriverManager().install()}\n",
    "browser = Browser('chrome', **executable_path, headless=True)"
   ]
  },
  {
   "cell_type": "code",
   "execution_count": 123,
   "metadata": {},
   "outputs": [],
   "source": [
    "\n",
    "def scrapeSite(character_name):\n",
    "    table_head = []\n",
    "    table_data = []\n",
    "    url = f'https://pokemondb.net/pokedex/{character_name}'\n",
    "    browser.visit(url)\n",
    "    html = browser.html\n",
    "    html_soup = soup(html, 'html.parser')\n",
    "    get_table_data = html_soup.find('div', class_='sv-tabs-panel-list')\n",
    "    #\n",
    "    # GET Pokédex data / Vitals:\n",
    "    pokedex_data_table = get_table_data.find(class_='vitals-table')\n",
    "    table_body = pokedex_data_table.find('tbody')\n",
    "    rows = table_body.find_all('tr')\n",
    "    for row in rows:\n",
    "        th = row.find_all('th')\n",
    "        td = row.find_all('td')\n",
    "        th = [x.text.strip() for x in th]\n",
    "        td = [x.text.strip() for x in td]  \n",
    "        table_head.append(th)\n",
    "        table_data.append(td)\n",
    "    # Get Training Data\n",
    "    training = get_table_data.find(class_='grid-col span-md-12 span-lg-4')\n",
    "    training_data = training.find_all(class_='vitals-table')[0]\n",
    "    table_body = training_data.find('tbody')\n",
    "    rows = table_body.find_all('tr')\n",
    "    for row in rows:\n",
    "        th=row.find_all('th')\n",
    "        td=row.find_all('td')\n",
    "        th=[x.text.strip() for x in th]\n",
    "        td=[x.text.strip() for x in td]  \n",
    "        table_head.append(th)\n",
    "        table_data.append(td)\n",
    "    # Breeding Data:\n",
    "    breeding = training.find_all(class_='vitals-table')[1]\n",
    "    table_body = breeding.find('tbody')\n",
    "    rows = table_body.find_all('tr')\n",
    "    for row in rows:\n",
    "        th=row.find_all('th')\n",
    "        td=row.find_all('td')\n",
    "        th=[x.text.strip() for x in th]\n",
    "        td=[x.text.strip() for x in td]  \n",
    "        table_head.append(th)\n",
    "        table_data.append(td)\n",
    "\n",
    "    # Create DataFrame of Collected Data and Save Results:\n",
    "    pokedex_head_df = pd.DataFrame(table_head)\n",
    "    pokedex_data_df = pd.DataFrame(table_data)\n",
    "    pokedex_table_df = pd.concat([pokedex_head_df, pokedex_data_df], axis=1).transpose()\n",
    "    pokedex_table_df.to_csv(f'../scraped/Characters/{character_name}_pokedex_table_df.csv', encoding='utf-8', index=False, header=False)\n",
    "\n"
   ]
  },
  {
   "cell_type": "code",
   "execution_count": 124,
   "metadata": {},
   "outputs": [],
   "source": [
    "# Character Names:\n",
    "characters1 = pd.read_csv('../scraped/list_names.csv')\n",
    "characters = pd.DataFrame(characters1)\n",
    "characters_list = characters['Name']\n",
    "characters_list = characters_list.tolist()"
   ]
  },
  {
   "cell_type": "code",
   "execution_count": 125,
   "metadata": {},
   "outputs": [],
   "source": [
    "# RUN Script to gather all characters data:\n",
    "for x in characters_list:\n",
    "    scrapeSite(x)\n"
   ]
  },
  {
   "cell_type": "code",
   "execution_count": 2,
   "metadata": {},
   "outputs": [],
   "source": [
    "# MERGE ALL FILES INTO A SINGLE CSV:\n",
    "# https://stackoverflow.com/questions/45211681/add-column-to-csv-file-and-insert-filename-in-that-column\n",
    "#import glob\n",
    "#import csv\n",
    "#directory = \"../scraped/Characters/\"\n",
    "#with open('../scraped/AllCharactersMerged.csv', 'w', newline='') as f_output:\n",
    "#    csv_output = csv.writer(f_output)\n",
    "#\n",
    "#    for filename in glob.glob(directory + '*df.csv'):\n",
    "#        with open(filename, newline='') as f_input:\n",
    "#            csv_input = csv.reader(f_input)\n",
    "#\n",
    "#            for row in csv_input:\n",
    "#                row.insert(0, filename)\n",
    "#                csv_output.writerow(row)"
   ]
  }
 ],
 "metadata": {
  "interpreter": {
   "hash": "51caf99891394b0e03474437ee42f862b0c4f5794f4bf2bdbe4ba068a06a1fa3"
  },
  "kernelspec": {
   "display_name": "Python 3.7.11 ('PythonData')",
   "language": "python",
   "name": "python3"
  },
  "language_info": {
   "codemirror_mode": {
    "name": "ipython",
    "version": 3
   },
   "file_extension": ".py",
   "mimetype": "text/x-python",
   "name": "python",
   "nbconvert_exporter": "python",
   "pygments_lexer": "ipython3",
   "version": "3.7.11"
  },
  "orig_nbformat": 4
 },
 "nbformat": 4,
 "nbformat_minor": 2
}
