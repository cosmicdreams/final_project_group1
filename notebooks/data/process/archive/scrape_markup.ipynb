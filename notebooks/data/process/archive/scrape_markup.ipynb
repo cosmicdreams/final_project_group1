{
 "cells": [
  {
   "cell_type": "code",
   "execution_count": null,
   "metadata": {
    "collapsed": true,
    "pycharm": {
     "name": "#%%\n"
    }
   },
   "outputs": [],
   "source": [
    "from sqlalchemy import create_engine\n",
    "from sqlalchemy import Column, Date, Integer, String, TEXT\n",
    "from sqlalchemy.ext.declarative import declarative_base\n",
    "\n",
    "db_string = \"sqlite:///./next.db\"\n",
    "db = create_engine(db_string, echo=True)\n",
    "Base = declarative_base()\n",
    "\n",
    " # Create table using sqlalchemy\n",
    "class PokedexHtml(Base):\n",
    "    __tablename__ = 'pokedex_html'\n",
    "    \n",
    "    id = Column(Integer, primary_key=True)\n",
    "    name = Column(String)\n",
    "    markup = Column(TEXT)\n",
    "    def __init__(self, name, markup):\n",
    "        self.name = name\n",
    "        self.markup = markup\n",
    "        \n",
    "        \n",
    "Base.metadata.create_all(db)\n",
    "# db.dispose()"
   ]
  }
 ],
 "metadata": {
  "kernelspec": {
   "display_name": "Python 3",
   "language": "python",
   "name": "python3"
  },
  "language_info": {
   "codemirror_mode": {
    "name": "ipython",
    "version": 2
   },
   "file_extension": ".py",
   "mimetype": "text/x-python",
   "name": "python",
   "nbconvert_exporter": "python",
   "pygments_lexer": "ipython2",
   "version": "2.7.6"
  }
 },
 "nbformat": 4,
 "nbformat_minor": 0
}